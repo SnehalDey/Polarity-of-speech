{
 "cells": [
  {
   "cell_type": "code",
   "execution_count": 1,
   "metadata": {},
   "outputs": [],
   "source": [
    "import speech_recognition as sr \n",
    "import pyttsx3  \n",
    "import googletrans\n",
    "from googletrans import Translator"
   ]
  },
  {
   "cell_type": "code",
   "execution_count": 2,
   "metadata": {},
   "outputs": [],
   "source": [
    "# Initialize the recognizer  \n",
    "speech = sr.Recognizer()  \n",
    "  \n",
    "# Function to convert text to speech \n",
    "\n",
    "def SpeakText(command): \n",
    "# Initialize the engine \n",
    "    \n",
    "    engine = pyttsx3.init() \n",
    "    engine.say(command)  \n",
    "    engine.runAndWait() \n",
    "\n",
    "#creating a list to store my speech as texts  \n",
    "MyText=[]"
   ]
  },
  {
   "cell_type": "code",
   "execution_count": 3,
   "metadata": {},
   "outputs": [
    {
     "name": "stdout",
     "output_type": "stream",
     "text": [
      "Ready!\n",
      " Did you say :\n",
      "hello my name is snehal\n",
      "Ready!\n",
      " Did you say :\n",
      "i am doing my masters from trinity college dublin\n",
      "Ready!\n",
      " Did you say :\n",
      "i want to be a machine learning engineer\n",
      "Ready!\n",
      " Did you say :\n",
      "exit\n"
     ]
    }
   ],
   "source": [
    "# infinite loop for getting the speech\n",
    "while True:     \n",
    "      \n",
    "    # Exception handling to handle \n",
    "    # exceptions at the runtime \n",
    "    try: \n",
    "          \n",
    "        # use the microphone as source for input. \n",
    "        with sr.Microphone() as source:\n",
    "            \n",
    "            # wait for a second to let the recognizer \n",
    "            # adjust the energy threshold based on \n",
    "            # the surrounding noise level  \n",
    "            speech.adjust_for_ambient_noise(source, duration=0.1) \n",
    "            print(\"Ready!\")\n",
    "            SpeakText(\"Hey I am listening: \")\n",
    "           \n",
    "            #listens for the user's input  \n",
    "            audio2 = speech.listen(source) \n",
    "              \n",
    "            # Using google to recognize audio \n",
    "            #appending them to my liost and converting it to lower case\n",
    "            MyText.append((speech.recognize_google(audio2)).lower()) \n",
    "           \n",
    "            print(\" Did you say :\")\n",
    "            print(MyText[-1]) \n",
    "            # reading out the text\n",
    "            SpeakText(MyText[-1])\n",
    "            # Ending the process when one say's exit\n",
    "            if MyText[-1] == 'exit':\n",
    "                 break\n",
    "              \n",
    "    except sr.RequestError as e: \n",
    "        print(\"Could not request results; {0}\".format(e)) \n",
    "          \n",
    "    except sr.UnknownValueError: \n",
    "        print(\"unknown error occured\")\n",
    "        \n",
    "    \n"
   ]
  },
  {
   "cell_type": "code",
   "execution_count": 4,
   "metadata": {},
   "outputs": [
    {
     "name": "stdout",
     "output_type": "stream",
     "text": [
      "['hello my name is snehal', 'i am doing my masters from trinity college dublin', 'i want to be a machine learning engineer', 'exit']\n"
     ]
    }
   ],
   "source": [
    "\n",
    "print(MyText)"
   ]
  },
  {
   "cell_type": "code",
   "execution_count": 5,
   "metadata": {},
   "outputs": [
    {
     "name": "stdout",
     "output_type": "stream",
     "text": [
      "['hello my name is snehal', 'i am doing my masters from trinity college dublin', 'i want to be a machine learning engineer']\n"
     ]
    }
   ],
   "source": [
    "# removing the 'exit' from the list\n",
    "MyText.pop()\n",
    "print(MyText)"
   ]
  },
  {
   "cell_type": "code",
   "execution_count": 6,
   "metadata": {},
   "outputs": [
    {
     "name": "stdout",
     "output_type": "stream",
     "text": [
      "Enter the language you want to convert to: french\n"
     ]
    },
    {
     "data": {
      "text/plain": [
       "str"
      ]
     },
     "execution_count": 6,
     "metadata": {},
     "output_type": "execute_result"
    }
   ],
   "source": [
    "#taking the input for converting the language to a desired language\n",
    "lang = input(\"Enter the language you want to convert to: \").lower()\n",
    "type(lang)"
   ]
  },
  {
   "cell_type": "code",
   "execution_count": 17,
   "metadata": {},
   "outputs": [
    {
     "name": "stdout",
     "output_type": "stream",
     "text": [
      "bonjour mon nom est snehal\n",
      "je fais mes maîtres de dublin de trinity college\n",
      "Je veux être un ingénieur d'apprentissage machine\n"
     ]
    }
   ],
   "source": [
    "translated=[]\n",
    "\n",
    "for i in MyText:\n",
    "        # translating the language to the deired language\n",
    "        trans = Translator() \n",
    "        #appending my speech to the list\n",
    "        trans = trans.translate(i, dest=lang)\n",
    "        translated.append(str(trans.text))\n",
    "\n",
    "\n",
    "for i in translated:\n",
    "    print(i)\n",
    "        \n",
    "\n",
    "\n"
   ]
  },
  {
   "cell_type": "code",
   "execution_count": 10,
   "metadata": {},
   "outputs": [
    {
     "name": "stdout",
     "output_type": "stream",
     "text": [
      "Voice:\n",
      " - ID: HKEY_LOCAL_MACHINE\\SOFTWARE\\Microsoft\\Speech\\Voices\\Tokens\\TTS_MS_EN-US_DAVID_11.0\n",
      " - Name: Microsoft David Desktop - English (United States)\n",
      " - Languages: []\n",
      " - Gender: None\n",
      " - Age: None\n",
      "Voice:\n",
      " - ID: HKEY_LOCAL_MACHINE\\SOFTWARE\\Microsoft\\Speech\\Voices\\Tokens\\TTS_MS_EN-US_ZIRA_11.0\n",
      " - Name: Microsoft Zira Desktop - English (United States)\n",
      " - Languages: []\n",
      " - Gender: None\n",
      " - Age: None\n"
     ]
    }
   ],
   "source": [
    "#getting all the avilable options for saying the translated speech\n",
    "engine = pyttsx3.init() \n",
    "voices = engine.getProperty('voices') \n",
    "for voice in voices: \n",
    "  print(\"Voice:\") \n",
    "  print(\" - ID: %s\" % voice.id) \n",
    "  print(\" - Name: %s\" % voice.name) \n",
    "  print(\" - Languages: %s\" % voice.languages) \n",
    "  print(\" - Gender: %s\" % voice.gender) \n",
    "  print(\" - Age: %s\" % voice.age)"
   ]
  },
  {
   "cell_type": "code",
   "execution_count": 11,
   "metadata": {},
   "outputs": [],
   "source": [
    "# selecting the voice for output\n",
    "fr_voice_id = \"com.apple.speech.synthesis.voice.thomas\"\n",
    "engine.setProperty('voice', fr_voice_id)"
   ]
  },
  {
   "cell_type": "code",
   "execution_count": 15,
   "metadata": {},
   "outputs": [],
   "source": [
    "#getting the output as voice\n",
    "for i in translated:\n",
    "     engine.say(i)\n",
    "engine.runAndWait()"
   ]
  },
  {
   "cell_type": "code",
   "execution_count": null,
   "metadata": {},
   "outputs": [],
   "source": []
  }
 ],
 "metadata": {
  "kernelspec": {
   "display_name": "Python 3",
   "language": "python",
   "name": "python3"
  },
  "language_info": {
   "codemirror_mode": {
    "name": "ipython",
    "version": 3
   },
   "file_extension": ".py",
   "mimetype": "text/x-python",
   "name": "python",
   "nbconvert_exporter": "python",
   "pygments_lexer": "ipython3",
   "version": "3.7.4"
  }
 },
 "nbformat": 4,
 "nbformat_minor": 2
}
