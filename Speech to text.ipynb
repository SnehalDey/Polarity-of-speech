{
 "cells": [
  {
   "cell_type": "code",
   "execution_count": 1,
   "metadata": {},
   "outputs": [],
   "source": [
    "import speech_recognition as sr \n",
    "import pyttsx3  "
   ]
  },
  {
   "cell_type": "code",
   "execution_count": 2,
   "metadata": {},
   "outputs": [],
   "source": [
    "# Initialize the recognizer  \n",
    "r = sr.Recognizer()  \n",
    "  \n",
    "# Function to convert text to speech \n",
    "\n",
    "def SpeakText(command): \n",
    "# Initialize the engine \n",
    "    \n",
    "    engine = pyttsx3.init() \n",
    "    engine.say(command)  \n",
    "    engine.runAndWait() "
   ]
  },
  {
   "cell_type": "code",
   "execution_count": null,
   "metadata": {},
   "outputs": [
    {
     "name": "stdout",
     "output_type": "stream",
     "text": [
      "Please talk you're on record: \n"
     ]
    }
   ],
   "source": [
    "while True:     \n",
    "      \n",
    "    # Exception handling to handle \n",
    "    # exceptions at the runtime \n",
    "    try: \n",
    "          \n",
    "        # use the microphone as source for input. \n",
    "        with sr.Microphone() as source:\n",
    "            \n",
    "            # wait for a second to let the recognizer \n",
    "            # adjust the energy threshold based on \n",
    "            # the surrounding noise level  \n",
    "            r.adjust_for_ambient_noise(source, duration=0.2) \n",
    "            \n",
    "            print(\"Please talk you're on record: \")\n",
    "           \n",
    "            #listens for the user's input  \n",
    "            audio2 = r.listen(source) \n",
    "              \n",
    "            # Using google to recognize audio \n",
    "            MyText = (r.recognize_google(audio2)).lower() \n",
    "            #MyText = MyText.lower() \n",
    "  \n",
    "            print(MyText) \n",
    "     \n",
    "            print(\" Hey did you try to say? \")\n",
    "            SpeakText(MyText) \n",
    "              \n",
    "    except sr.RequestError as e: \n",
    "        print(\"Could not request results; {0}\".format(e)) \n",
    "          \n",
    "    except sr.UnknownValueError: \n",
    "        print(\"unknown error occured\")"
   ]
  },
  {
   "cell_type": "code",
   "execution_count": null,
   "metadata": {},
   "outputs": [],
   "source": []
  }
 ],
 "metadata": {
  "kernelspec": {
   "display_name": "Python 3",
   "language": "python",
   "name": "python3"
  },
  "language_info": {
   "codemirror_mode": {
    "name": "ipython",
    "version": 3
   },
   "file_extension": ".py",
   "mimetype": "text/x-python",
   "name": "python",
   "nbconvert_exporter": "python",
   "pygments_lexer": "ipython3",
   "version": "3.7.4"
  }
 },
 "nbformat": 4,
 "nbformat_minor": 2
}
